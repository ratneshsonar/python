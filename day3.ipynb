{
 "cells": [
  {
   "cell_type": "code",
   "execution_count": 1,
   "metadata": {
    "collapsed": true
   },
   "outputs": [],
   "source": [
    "# function without parameter\n",
    "# function delcaration\n",
    "def printMe():\n",
    "    print(\"Hello All!\")"
   ]
  },
  {
   "cell_type": "code",
   "execution_count": 2,
   "metadata": {},
   "outputs": [
    {
     "name": "stdout",
     "output_type": "stream",
     "text": [
      "Hello All!\n"
     ]
    }
   ],
   "source": [
    "# calling function\n",
    "printMe()"
   ]
  },
  {
   "cell_type": "code",
   "execution_count": 3,
   "metadata": {
    "collapsed": true
   },
   "outputs": [],
   "source": [
    "# function with parameter \n",
    "def addOperation(a,b):\n",
    "    return a+b"
   ]
  },
  {
   "cell_type": "code",
   "execution_count": 4,
   "metadata": {},
   "outputs": [
    {
     "data": {
      "text/plain": [
       "9"
      ]
     },
     "execution_count": 4,
     "metadata": {},
     "output_type": "execute_result"
    }
   ],
   "source": [
    "add = addOperation\n",
    "add(4,5)"
   ]
  },
  {
   "cell_type": "code",
   "execution_count": 5,
   "metadata": {
    "collapsed": true
   },
   "outputs": [],
   "source": [
    "#function with default value\n",
    "#declaration\n",
    "def multipleNo(a=0,b=0):\n",
    "    return a*b"
   ]
  },
  {
   "cell_type": "code",
   "execution_count": 6,
   "metadata": {},
   "outputs": [
    {
     "data": {
      "text/plain": [
       "0"
      ]
     },
     "execution_count": 6,
     "metadata": {},
     "output_type": "execute_result"
    }
   ],
   "source": [
    "multipleNo()"
   ]
  },
  {
   "cell_type": "code",
   "execution_count": 7,
   "metadata": {},
   "outputs": [
    {
     "data": {
      "text/plain": [
       "0"
      ]
     },
     "execution_count": 7,
     "metadata": {},
     "output_type": "execute_result"
    }
   ],
   "source": [
    "multipleNo(4)    #indexing\n",
    "multipleNo(a=4)  #key value"
   ]
  },
  {
   "cell_type": "code",
   "execution_count": 10,
   "metadata": {},
   "outputs": [
    {
     "ename": "TypeError",
     "evalue": "multipleNo() got an unexpected keyword argument 'c'",
     "output_type": "error",
     "traceback": [
      "\u001b[1;31m---------------------------------------------------------------------------\u001b[0m",
      "\u001b[1;31mTypeError\u001b[0m                                 Traceback (most recent call last)",
      "\u001b[1;32m<ipython-input-10-1e6a8dc2428f>\u001b[0m in \u001b[0;36m<module>\u001b[1;34m()\u001b[0m\n\u001b[1;32m----> 1\u001b[1;33m \u001b[0mmultipleNo\u001b[0m\u001b[1;33m(\u001b[0m\u001b[0mc\u001b[0m\u001b[1;33m=\u001b[0m\u001b[1;36m4\u001b[0m\u001b[1;33m)\u001b[0m\u001b[1;33m\u001b[0m\u001b[0m\n\u001b[0m",
      "\u001b[1;31mTypeError\u001b[0m: multipleNo() got an unexpected keyword argument 'c'"
     ]
    }
   ],
   "source": [
    "multipleNo(c=4)"
   ]
  },
  {
   "cell_type": "code",
   "execution_count": 8,
   "metadata": {},
   "outputs": [
    {
     "data": {
      "text/plain": [
       "16"
      ]
     },
     "execution_count": 8,
     "metadata": {},
     "output_type": "execute_result"
    }
   ],
   "source": [
    "multipleNo(4,4)"
   ]
  },
  {
   "cell_type": "code",
   "execution_count": 9,
   "metadata": {},
   "outputs": [
    {
     "data": {
      "text/plain": [
       "30"
      ]
     },
     "execution_count": 9,
     "metadata": {},
     "output_type": "execute_result"
    }
   ],
   "source": [
    "multipleNo(a=4, b=5)\n",
    "multipleNo(b=5, a=6)"
   ]
  },
  {
   "cell_type": "code",
   "execution_count": 11,
   "metadata": {},
   "outputs": [
    {
     "data": {
      "text/plain": [
       "0"
      ]
     },
     "execution_count": 11,
     "metadata": {},
     "output_type": "execute_result"
    }
   ],
   "source": [
    "multipleNo(b=4,) #valid"
   ]
  },
  {
   "cell_type": "markdown",
   "metadata": {},
   "source": []
  },
  {
   "cell_type": "code",
   "execution_count": 12,
   "metadata": {},
   "outputs": [
    {
     "ename": "SyntaxError",
     "evalue": "invalid syntax (<ipython-input-12-815ed013bc35>, line 1)",
     "output_type": "error",
     "traceback": [
      "\u001b[1;36m  File \u001b[1;32m\"<ipython-input-12-815ed013bc35>\"\u001b[1;36m, line \u001b[1;32m1\u001b[0m\n\u001b[1;33m    multipleNo(,b=4) #invalid valid\u001b[0m\n\u001b[1;37m               ^\u001b[0m\n\u001b[1;31mSyntaxError\u001b[0m\u001b[1;31m:\u001b[0m invalid syntax\n"
     ]
    }
   ],
   "source": [
    "multipleNo(,b=4) #invalid valid"
   ]
  },
  {
   "cell_type": "code",
   "execution_count": 13,
   "metadata": {
    "collapsed": true
   },
   "outputs": [],
   "source": [
    "#function with multiple return..\n",
    "def doCalculator(x,y):\n",
    "    return x+y,x-y,x*y,x/y"
   ]
  },
  {
   "cell_type": "code",
   "execution_count": 15,
   "metadata": {},
   "outputs": [
    {
     "name": "stdout",
     "output_type": "stream",
     "text": [
      "9\n",
      "-1\n"
     ]
    }
   ],
   "source": [
    "\n",
    "add,sub,mul,div=doCalculator(4,5)\n",
    "print(add)\n",
    "print(sub)"
   ]
  },
  {
   "cell_type": "code",
   "execution_count": 26,
   "metadata": {},
   "outputs": [],
   "source": [
    "#args \n",
    "#function declations\n",
    "def customPrint(*args):\n",
    "  for data in args:\n",
    "        print(\"your output is {}\".format(data),end=\" \") #end create matter\n"
   ]
  },
  {
   "cell_type": "code",
   "execution_count": 28,
   "metadata": {},
   "outputs": [
    {
     "name": "stdout",
     "output_type": "stream",
     "text": [
      "your output is hello dubai your output is 35 your output is 54 your output is {'name': 'siddhesh'} "
     ]
    }
   ],
   "source": [
    "customPrint(\"hello dubai\",35,54,{\"name\":\"siddhesh\"})"
   ]
  },
  {
   "cell_type": "code",
   "execution_count": 23,
   "metadata": {},
   "outputs": [],
   "source": [
    "#args \n",
    "#function declations\n",
    "def customPrint(*args):\n",
    "  for data in args:\n",
    "        print(\"your output is {}\".format(data))\n"
   ]
  },
  {
   "cell_type": "code",
   "execution_count": 24,
   "metadata": {},
   "outputs": [
    {
     "name": "stdout",
     "output_type": "stream",
     "text": [
      "your output is hello dubai\n",
      "your output is 35\n",
      "your output is 54\n"
     ]
    }
   ],
   "source": [
    "customPrint(\"hello dubai\",35,54)"
   ]
  },
  {
   "cell_type": "code",
   "execution_count": 30,
   "metadata": {},
   "outputs": [],
   "source": [
    "def customPrint(**kwargs):\n",
    "    return kwargs\n",
    "  "
   ]
  },
  {
   "cell_type": "code",
   "execution_count": 37,
   "metadata": {},
   "outputs": [
    {
     "ename": "TypeError",
     "evalue": "customPrint() takes 0 positional arguments but 1 was given",
     "output_type": "error",
     "traceback": [
      "\u001b[1;31m---------------------------------------------------------------------------\u001b[0m",
      "\u001b[1;31mTypeError\u001b[0m                                 Traceback (most recent call last)",
      "\u001b[1;32m<ipython-input-37-4bd8b579515c>\u001b[0m in \u001b[0;36m<module>\u001b[1;34m()\u001b[0m\n\u001b[0;32m      1\u001b[0m \u001b[1;31m#infinity parameter using kwargs\u001b[0m\u001b[1;33m\u001b[0m\u001b[1;33m\u001b[0m\u001b[0m\n\u001b[1;32m----> 2\u001b[1;33m \u001b[0mcustomPrint\u001b[0m\u001b[1;33m(\u001b[0m\u001b[1;33m{\u001b[0m\u001b[1;34m\"name\"\u001b[0m\u001b[1;33m:\u001b[0m\u001b[1;34m\"siddhesh\"\u001b[0m\u001b[1;33m}\u001b[0m\u001b[1;33m)\u001b[0m\u001b[1;33m\u001b[0m\u001b[0m\n\u001b[0m",
      "\u001b[1;31mTypeError\u001b[0m: customPrint() takes 0 positional arguments but 1 was given"
     ]
    }
   ],
   "source": [
    "#infinity parameter using kwargs\n",
    "customPrint({\"name\":\"siddhesh\"})"
   ]
  },
  {
   "cell_type": "code",
   "execution_count": 41,
   "metadata": {
    "collapsed": true
   },
   "outputs": [],
   "source": [
    "def calculator(*args,**kwargs):\n",
    "    print(args)\n",
    "    print(kwargs)\n",
    "        \n",
    "        \n",
    "    "
   ]
  },
  {
   "cell_type": "code",
   "execution_count": 42,
   "metadata": {},
   "outputs": [
    {
     "name": "stdout",
     "output_type": "stream",
     "text": [
      "(23, 35, 5, 5)\n",
      "{'a': 34, 'b': 55}\n"
     ]
    }
   ],
   "source": [
    "calculator(23,35,5,5,a=34,b=55)"
   ]
  },
  {
   "cell_type": "code",
   "execution_count": 46,
   "metadata": {},
   "outputs": [
    {
     "name": "stdout",
     "output_type": "stream",
     "text": [
      "9\n"
     ]
    }
   ],
   "source": [
    "#lambda e.g\n",
    "add=lambda x,y:x+y\n",
    "print(add(4,5))"
   ]
  },
  {
   "cell_type": "code",
   "execution_count": 47,
   "metadata": {},
   "outputs": [
    {
     "name": "stdout",
     "output_type": "stream",
     "text": [
      "33\n"
     ]
    }
   ],
   "source": [
    "inc = lambda x:x-1\n",
    "print(inc(34))"
   ]
  },
  {
   "cell_type": "code",
   "execution_count": 48,
   "metadata": {},
   "outputs": [
    {
     "name": "stdout",
     "output_type": "stream",
     "text": [
      "[34, 35, 36, 37, 38, 39]\n"
     ]
    }
   ],
   "source": [
    "#range declaration \n",
    "inc = lambda x,y=0:list(range(x,x+y+1))\n",
    "print(inc(34,5))"
   ]
  },
  {
   "cell_type": "code",
   "execution_count": 55,
   "metadata": {},
   "outputs": [
    {
     "name": "stdout",
     "output_type": "stream",
     "text": [
      "[34, 35, 36, 37, 38, 39]\n",
      "[34, 35]\n",
      "[34, 35, 36, 37]\n"
     ]
    }
   ],
   "source": [
    "#range declaration \n",
    "inc = lambda x,y=1:list(range(x,x+y+1)) if(y!=0) else x+1\n",
    "print(inc(34,5))\n",
    "print(inc(34))\n",
    "print(inc(34,3))"
   ]
  },
  {
   "cell_type": "code",
   "execution_count": 57,
   "metadata": {},
   "outputs": [
    {
     "data": {
      "text/plain": [
       "[1, 4, 9, 16]"
      ]
     },
     "execution_count": 57,
     "metadata": {},
     "output_type": "execute_result"
    }
   ],
   "source": [
    "[i*i for i in range(1,5)]"
   ]
  },
  {
   "cell_type": "code",
   "execution_count": 62,
   "metadata": {},
   "outputs": [
    {
     "name": "stdout",
     "output_type": "stream",
     "text": [
      "1\n",
      "4\n",
      "66\n",
      "dsgdgd\n"
     ]
    },
    {
     "data": {
      "text/plain": [
       "[None, None, None, None]"
      ]
     },
     "execution_count": 62,
     "metadata": {},
     "output_type": "execute_result"
    }
   ],
   "source": [
    "list(map(print,[1,4,66,\"dsgdgd\"]))"
   ]
  },
  {
   "cell_type": "code",
   "execution_count": 64,
   "metadata": {},
   "outputs": [
    {
     "data": {
      "text/plain": [
       "[1, 4, 9, 16, 25, 36, 49, 64, 81]"
      ]
     },
     "execution_count": 64,
     "metadata": {},
     "output_type": "execute_result"
    }
   ],
   "source": [
    "list(map(lambda x:x*x, range(1,10)))"
   ]
  },
  {
   "cell_type": "code",
   "execution_count": 69,
   "metadata": {},
   "outputs": [],
   "source": [
    "a=\"8976792190\""
   ]
  },
  {
   "cell_type": "code",
   "execution_count": 70,
   "metadata": {},
   "outputs": [
    {
     "data": {
      "text/plain": [
       "'******2190'"
      ]
     },
     "execution_count": 70,
     "metadata": {},
     "output_type": "execute_result"
    }
   ],
   "source": [
    "a[6:len(a)].rjust(len(a),\"*\")"
   ]
  },
  {
   "cell_type": "code",
   "execution_count": 73,
   "metadata": {},
   "outputs": [
    {
     "data": {
      "text/plain": [
       "['******190', '******4103', '******3385', '******1014']"
      ]
     },
     "execution_count": 73,
     "metadata": {},
     "output_type": "execute_result"
    }
   ],
   "source": [
    "data=[\"897672190\",\"9833014103\",\"8976893385\",\"7208701014\"]\n",
    "list(map(lambda a:a[6:].rjust(len(a),\"*\"),data))"
   ]
  },
  {
   "cell_type": "code",
   "execution_count": 4,
   "metadata": {},
   "outputs": [],
   "source": [
    "def caseConversion(x):\n",
    "    if(x.isupper()):\n",
    "        return x.lower()\n",
    "    elif(x.islower()):\n",
    "        return x.upper()\n",
    "    else:\n",
    "        return x.swapcase()"
   ]
  },
  {
   "cell_type": "code",
   "execution_count": 6,
   "metadata": {},
   "outputs": [
    {
     "data": {
      "text/plain": [
       "['GOA', 'maharshtra', 'sIkKiM', 'Jk', 'uttar pRADESH', 'bihar']"
      ]
     },
     "execution_count": 6,
     "metadata": {},
     "output_type": "execute_result"
    }
   ],
   "source": [
    "data=[\"goa\",\"MAHARSHTRA\",\"SiKkIm\",\"jK\",\"UTTAR Pradesh\",\"BIHAR\"]\n",
    "list(map(caseConversion,data))\n",
    "list(map(lambda x:caseConversion(x), data))"
   ]
  },
  {
   "cell_type": "code",
   "execution_count": 10,
   "metadata": {},
   "outputs": [
    {
     "data": {
      "text/plain": [
       "['MAHARSHTRA', 'UTTAR Pradesh', 'BIHAR']"
      ]
     },
     "execution_count": 10,
     "metadata": {},
     "output_type": "execute_result"
    }
   ],
   "source": [
    "data=[\"goa\",\"MAHARSHTRA\",\"SiKkIm\",\"jK\",\"UTTAR Pradesh\",\"BIHAR\"]\n",
    "list(filter(lambda x:'h' in x or \"H\" in x ,data))"
   ]
  },
  {
   "cell_type": "code",
   "execution_count": 17,
   "metadata": {},
   "outputs": [
    {
     "name": "stdout",
     "output_type": "stream",
     "text": [
      "120\n"
     ]
    }
   ],
   "source": [
    "from functools import reduce\n",
    "print(reduce(lambda x,y: x*y, range(1,6)))"
   ]
  },
  {
   "cell_type": "code",
   "execution_count": 23,
   "metadata": {},
   "outputs": [
    {
     "name": "stdout",
     "output_type": "stream",
     "text": [
      "I am printing before\n",
      "hello all\n",
      "I am printing after\n"
     ]
    }
   ],
   "source": [
    "### closure or first class citizen\n",
    "def wrapper(func_name):\n",
    "    def inner():\n",
    "        print(\"I am printing before\")\n",
    "        func_name()\n",
    "        print(\"I am printing after\")\n",
    "    return inner\n",
    "def printMe():\n",
    "    print(\"hello all\")\n",
    "    \n",
    "printMe1=wrapper(printMe)\n",
    "printMe1()\n",
    "        "
   ]
  },
  {
   "cell_type": "code",
   "execution_count": 35,
   "metadata": {
    "scrolled": true
   },
   "outputs": [
    {
     "name": "stdout",
     "output_type": "stream",
     "text": [
      "I am printing before\n",
      "hello all\n",
      "I am printing after\n",
      "I am printing before\n",
      "hello all once again\n",
      "I am printing after\n"
     ]
    }
   ],
   "source": [
    "### closure or first class citizen\n",
    "def wrapper(func_name):\n",
    "    def inner():\n",
    "        print(\"I am printing before\")\n",
    "        func_name()\n",
    "        print(\"I am printing after\")\n",
    "    return inner\n",
    "@wrapper\n",
    "def printMe():\n",
    "    print(\"hello all\")\n",
    "@wrapper    \n",
    "def printMe2():\n",
    "    print(\"hello all once again\")\n",
    "\n",
    "printMe()\n",
    "printMe2()\n",
    "\n",
    "#printMe1=wrapper(printMe)\n",
    "#printMe1()\n",
    "     "
   ]
  },
  {
   "cell_type": "code",
   "execution_count": 69,
   "metadata": {},
   "outputs": [],
   "source": [
    "def validation(login):\n",
    "    def inner(**kw):\n",
    "        if(kw[\"username\"]==\"\" and kw[\"password\"]!=\"\"):\n",
    "            print(\"enter credentials\")\n",
    "        elif(kw[\"username\"]==\"admin\" and kw[\"password\"]==\"admin123\"):\n",
    "            login()\n",
    "        else:\n",
    "            print(\"invalid user\")\n",
    "    return inner\n",
    "                    \n"
   ]
  },
  {
   "cell_type": "code",
   "execution_count": 70,
   "metadata": {},
   "outputs": [
    {
     "name": "stdout",
     "output_type": "stream",
     "text": [
      "Enter Usernameadmin\n",
      "Enter Passwordadmin123\n",
      "welcome\n"
     ]
    }
   ],
   "source": [
    "usern = input(\"Enter Username\")\n",
    "passw = input(\"Enter Password\")\n",
    "@validation\n",
    "def loginProcess():\n",
    "       print(\"welcome\")\n",
    "        \n",
    "loginProcess(username = usern, password = passw)"
   ]
  },
  {
   "cell_type": "code",
   "execution_count": 71,
   "metadata": {},
   "outputs": [
    {
     "name": "stdout",
     "output_type": "stream",
     "text": [
      "[1, 2, 3, 4, 5]\n"
     ]
    }
   ],
   "source": [
    "list1 = [1,1,1,1,2,2,3,3,3,3,4,5]\n",
    "a1 = set(list1)\n",
    "a2 = a1.union(a1)\n",
    "list2 = list(a2)\n",
    "print(list2)"
   ]
  },
  {
   "cell_type": "code",
   "execution_count": 89,
   "metadata": {},
   "outputs": [],
   "source": [
    "def alternateFlow(a,b):\n",
    "    try:\n",
    "        c=0\n",
    "        if(type(a) is str and type (b) is str):\n",
    "            a=float(a)\n",
    "            b=float(b)\n",
    "            c=a/b\n",
    "    except BaseException as e:\n",
    "            print(\"Transfer to first flow\")\n",
    "            FistFlow()\n",
    "    else:\n",
    "            print(\"value of division is \" ,c)\n",
    "    finally:\n",
    "            del a,b"
   ]
  },
  {
   "cell_type": "code",
   "execution_count": 90,
   "metadata": {
    "collapsed": true
   },
   "outputs": [],
   "source": [
    "#Exception Handling\n",
    "\n",
    "def FirstFlow():\n",
    "    try:\n",
    "        no1 = input(\"Enter the first No.\")\n",
    "        no2 = input(\"Enter the second No.\")\n",
    "        no3 = no1/no2\n",
    "    except BaseException as e:\n",
    "        choice = input(\"do you want to see the error [y/n]\")\n",
    "        if(choice==\"y\"):\n",
    "            print(e)\n",
    "            print(\"transfering to alternate flow\")\n",
    "            alternateFlow(no1,no2)\n",
    "        else:\n",
    "            print(\"transfering to alternate flow\")\n",
    "            alternateFlow(no1,no2)\n",
    "    else:\n",
    "        print(\"Division value is\",no3)\n",
    "            \n",
    "            "
   ]
  },
  {
   "cell_type": "code",
   "execution_count": 92,
   "metadata": {},
   "outputs": [
    {
     "name": "stdout",
     "output_type": "stream",
     "text": [
      "Enter the first No.4\n",
      "Enter the second No.20\n",
      "do you want to see the error [y/n]N\n",
      "transfering to alternate flow\n",
      "value of division is  0.2\n"
     ]
    }
   ],
   "source": [
    "FirstFlow()"
   ]
  },
  {
   "cell_type": "code",
   "execution_count": 13,
   "metadata": {},
   "outputs": [],
   "source": [
    "def checkEven(a):\n",
    "    try:\n",
    "        if(a%2==0):\n",
    "            print(\"no is even\")\n",
    "        else:\n",
    "            raise BaseException(\"No is not even\")\n",
    "    except  BaseException as e:\n",
    "        print(e)\n",
    "    "
   ]
  },
  {
   "cell_type": "code",
   "execution_count": 15,
   "metadata": {
    "scrolled": true
   },
   "outputs": [
    {
     "name": "stdout",
     "output_type": "stream",
     "text": [
      "no is even\n"
     ]
    }
   ],
   "source": [
    "checkEven(4)"
   ]
  },
  {
   "cell_type": "code",
   "execution_count": 16,
   "metadata": {
    "collapsed": true
   },
   "outputs": [],
   "source": [
    "##### Database Programming"
   ]
  },
  {
   "cell_type": "code",
   "execution_count": 28,
   "metadata": {},
   "outputs": [],
   "source": [
    "def getDBConnection(ip=\"localhost\", usern=\"root\", passn=\"\", dbname=\"python_demo\"):\n",
    "    try:\n",
    "        import pymysql as sql\n",
    "        db=sql.connect(ip,usern,passn,dbname)\n",
    "        cursor=db.cursor()\n",
    "    except BaseException as e:\n",
    "        print(e)\n",
    "    else:\n",
    "        print(\"DB Connected Successfully!!!\")\n",
    "        return db,cursor"
   ]
  },
  {
   "cell_type": "code",
   "execution_count": 23,
   "metadata": {},
   "outputs": [
    {
     "name": "stdout",
     "output_type": "stream",
     "text": [
      "DB Connection Successfully!!!\n"
     ]
    },
    {
     "data": {
      "text/plain": [
       "(<pymysql.connections.Connection at 0x187587d7198>,\n",
       " <pymysql.cursors.Cursor at 0x187587d7208>)"
      ]
     },
     "execution_count": 23,
     "metadata": {},
     "output_type": "execute_result"
    }
   ],
   "source": [
    "getDBConnection()"
   ]
  },
  {
   "cell_type": "code",
   "execution_count": 31,
   "metadata": {
    "collapsed": true
   },
   "outputs": [],
   "source": [
    "def createTable():\n",
    "    try:\n",
    "        db,cursor = getDBConnection()\n",
    "        sql_cmd = \"create table login(id int primary key auto_increment,username varchar(200), password varchar(200))\"\n",
    "        cursor.execute(sql_cmd)\n",
    "    except BaseExeption as e:\n",
    "        print(e)\n",
    "        db.rollback()\n",
    "    else:\n",
    "        db.commit()\n",
    "        print(\"table has been created successfully!!!\")\n",
    "    finally:\n",
    "        db.close()\n",
    "            \n"
   ]
  },
  {
   "cell_type": "code",
   "execution_count": 32,
   "metadata": {},
   "outputs": [
    {
     "name": "stdout",
     "output_type": "stream",
     "text": [
      "DB Connected Successfully!!!\n",
      "table has been created successfully!!!\n"
     ]
    }
   ],
   "source": [
    "createTable()"
   ]
  },
  {
   "cell_type": "code",
   "execution_count": 42,
   "metadata": {
    "collapsed": true
   },
   "outputs": [],
   "source": [
    "def insertIntoLogin():\n",
    "    try:\n",
    "        username=input(\"enter Username\")\n",
    "        password=input(\"enter password\")\n",
    "        db,cursor=getDBConnection()\n",
    "        sql_cmd=\"insert into login(username,password) values('{}','{}');\".format(username,password)\n",
    "        cursor.execute(sql_cmd)\n",
    "    except BaseException as e:\n",
    "        print (e)\n",
    "        db.rollback()\n",
    "    else:\n",
    "        db.commit()\n",
    "        if(cursor.rowcount>0):\n",
    "            print(\"Data Inserted successfully!!!\")\n",
    "    finally:\n",
    "                db.close()"
   ]
  },
  {
   "cell_type": "code",
   "execution_count": 43,
   "metadata": {},
   "outputs": [
    {
     "name": "stdout",
     "output_type": "stream",
     "text": [
      "enter Username\n",
      "enter password\n",
      "DB Connected Successfully!!!\n",
      "Data Inserted successfully!!!\n"
     ]
    }
   ],
   "source": [
    "insertIntoLogin()"
   ]
  },
  {
   "cell_type": "code",
   "execution_count": 52,
   "metadata": {},
   "outputs": [],
   "source": [
    "def deleteRecord():\n",
    "    try:\n",
    "        db,cursor = getDBConnection()\n",
    "        username=input(\"enter username: \")\n",
    "        sql_cmd= \"delete from login where username like '%{}%'\".format(username)\n",
    "        cursor.execute(sql_cmd)\n",
    "    except BaseException as e:\n",
    "        print(e)\n",
    "        db.rollback()\n",
    "    else:\n",
    "        db.commit()\n",
    "        if(cursor.rowcount>0):\n",
    "            print(\"record has been deleted successfully\")\n",
    "        else:\n",
    "            print(\"no record has been found of name {}\".format(username))\n",
    "    finally:\n",
    "        db.close()"
   ]
  },
  {
   "cell_type": "code",
   "execution_count": 53,
   "metadata": {},
   "outputs": [
    {
     "name": "stdout",
     "output_type": "stream",
     "text": [
      "DB Connected Successfully!!!\n",
      "enter username: ratnesh\n",
      "no record has been found of name ratnesh\n"
     ]
    }
   ],
   "source": [
    "deleteRecord()"
   ]
  }
 ],
 "metadata": {
  "kernelspec": {
   "display_name": "Python 3",
   "language": "python",
   "name": "python3"
  },
  "language_info": {
   "codemirror_mode": {
    "name": "ipython",
    "version": 3
   },
   "file_extension": ".py",
   "mimetype": "text/x-python",
   "name": "python",
   "nbconvert_exporter": "python",
   "pygments_lexer": "ipython3",
   "version": "3.6.1"
  }
 },
 "nbformat": 4,
 "nbformat_minor": 2
}
